{
 "cells": [
  {
   "attachments": {},
   "cell_type": "markdown",
   "metadata": {},
   "source": [
    "# Easy Cash - Análise de Previsão de Inadimplência"
   ]
  },
  {
   "attachments": {},
   "cell_type": "markdown",
   "metadata": {},
   "source": [
    "INTRODUÇÃO\n",
    "\n",
    "Na Sprint 02 será construido um modelo que possa predizer de acordo com os dados bancários de cada cliente, se essa pessoa pode ou não se tornar inadimplente"
   ]
  },
  {
   "cell_type": "code",
   "execution_count": 1,
   "metadata": {},
   "outputs": [],
   "source": [
    "import pandas as pd\n",
    "import numpy as np\n",
    "from scipy.stats import iqr\n",
    "import matplotlib.pyplot as plt\n",
    "plt.rc('figure', figsize = (14,6))\n",
    "%matplotlib inline\n"
   ]
  },
  {
   "attachments": {},
   "cell_type": "markdown",
   "metadata": {},
   "source": [
    "## Importando os dados para análise"
   ]
  },
  {
   "cell_type": "code",
   "execution_count": 2,
   "metadata": {},
   "outputs": [
    {
     "data": {
      "text/html": [
       "<div>\n",
       "<style scoped>\n",
       "    .dataframe tbody tr th:only-of-type {\n",
       "        vertical-align: middle;\n",
       "    }\n",
       "\n",
       "    .dataframe tbody tr th {\n",
       "        vertical-align: top;\n",
       "    }\n",
       "\n",
       "    .dataframe thead th {\n",
       "        text-align: right;\n",
       "    }\n",
       "</style>\n",
       "<table border=\"1\" class=\"dataframe\">\n",
       "  <thead>\n",
       "    <tr style=\"text-align: right;\">\n",
       "      <th></th>\n",
       "      <th>person_age</th>\n",
       "      <th>person_income</th>\n",
       "      <th>person_home_ownership</th>\n",
       "      <th>person_emp_length</th>\n",
       "      <th>loan_intent</th>\n",
       "      <th>loan_grade</th>\n",
       "      <th>loan_amnt</th>\n",
       "      <th>loan_int_rate</th>\n",
       "      <th>loan_status</th>\n",
       "      <th>loan_percent_income</th>\n",
       "      <th>cb_person_default_on_file</th>\n",
       "      <th>cb_person_cred_hist_length</th>\n",
       "    </tr>\n",
       "  </thead>\n",
       "  <tbody>\n",
       "    <tr>\n",
       "      <th>0</th>\n",
       "      <td>21.0</td>\n",
       "      <td>60000.0</td>\n",
       "      <td>Rent</td>\n",
       "      <td>2.0</td>\n",
       "      <td>Education</td>\n",
       "      <td>B</td>\n",
       "      <td>8000.0</td>\n",
       "      <td>11.26</td>\n",
       "      <td>0.0</td>\n",
       "      <td>0.13</td>\n",
       "      <td>N</td>\n",
       "      <td>3.0</td>\n",
       "    </tr>\n",
       "    <tr>\n",
       "      <th>1</th>\n",
       "      <td>40.0</td>\n",
       "      <td>70000.0</td>\n",
       "      <td>Mortgage</td>\n",
       "      <td>6.0</td>\n",
       "      <td>Education</td>\n",
       "      <td>A</td>\n",
       "      <td>18000.0</td>\n",
       "      <td>7.90</td>\n",
       "      <td>0.0</td>\n",
       "      <td>0.26</td>\n",
       "      <td>N</td>\n",
       "      <td>14.0</td>\n",
       "    </tr>\n",
       "    <tr>\n",
       "      <th>2</th>\n",
       "      <td>29.0</td>\n",
       "      <td>115000.0</td>\n",
       "      <td>Mortgage</td>\n",
       "      <td>3.0</td>\n",
       "      <td>Medical</td>\n",
       "      <td>C</td>\n",
       "      <td>22000.0</td>\n",
       "      <td>15.23</td>\n",
       "      <td>0.0</td>\n",
       "      <td>0.19</td>\n",
       "      <td>Y</td>\n",
       "      <td>7.0</td>\n",
       "    </tr>\n",
       "    <tr>\n",
       "      <th>3</th>\n",
       "      <td>26.0</td>\n",
       "      <td>84996.0</td>\n",
       "      <td>Rent</td>\n",
       "      <td>0.0</td>\n",
       "      <td>Medical</td>\n",
       "      <td>B</td>\n",
       "      <td>9000.0</td>\n",
       "      <td>11.26</td>\n",
       "      <td>0.0</td>\n",
       "      <td>0.11</td>\n",
       "      <td>N</td>\n",
       "      <td>2.0</td>\n",
       "    </tr>\n",
       "    <tr>\n",
       "      <th>4</th>\n",
       "      <td>23.0</td>\n",
       "      <td>54500.0</td>\n",
       "      <td>Rent</td>\n",
       "      <td>2.0</td>\n",
       "      <td>Debtconsolidation</td>\n",
       "      <td>A</td>\n",
       "      <td>8000.0</td>\n",
       "      <td>NaN</td>\n",
       "      <td>0.0</td>\n",
       "      <td>0.15</td>\n",
       "      <td>N</td>\n",
       "      <td>2.0</td>\n",
       "    </tr>\n",
       "  </tbody>\n",
       "</table>\n",
       "</div>"
      ],
      "text/plain": [
       "   person_age  person_income person_home_ownership  person_emp_length  \\\n",
       "0        21.0        60000.0                  Rent                2.0   \n",
       "1        40.0        70000.0              Mortgage                6.0   \n",
       "2        29.0       115000.0              Mortgage                3.0   \n",
       "3        26.0        84996.0                  Rent                0.0   \n",
       "4        23.0        54500.0                  Rent                2.0   \n",
       "\n",
       "         loan_intent loan_grade  loan_amnt  loan_int_rate  loan_status  \\\n",
       "0          Education          B     8000.0          11.26          0.0   \n",
       "1          Education          A    18000.0           7.90          0.0   \n",
       "2            Medical          C    22000.0          15.23          0.0   \n",
       "3            Medical          B     9000.0          11.26          0.0   \n",
       "4  Debtconsolidation          A     8000.0            NaN          0.0   \n",
       "\n",
       "   loan_percent_income cb_person_default_on_file  cb_person_cred_hist_length  \n",
       "0                 0.13                         N                         3.0  \n",
       "1                 0.26                         N                        14.0  \n",
       "2                 0.19                         Y                         7.0  \n",
       "3                 0.11                         N                         2.0  \n",
       "4                 0.15                         N                         2.0  "
      ]
     },
     "execution_count": 2,
     "metadata": {},
     "output_type": "execute_result"
    }
   ],
   "source": [
    "dados = pd.read_csv('../Sprint01/dados/dados_unidos.csv')\n",
    "dados.head(5)"
   ]
  },
  {
   "attachments": {},
   "cell_type": "markdown",
   "metadata": {},
   "source": [
    "#### Renomeando Colunas"
   ]
  },
  {
   "cell_type": "code",
   "execution_count": 3,
   "metadata": {},
   "outputs": [],
   "source": [
    "# Declarando dicionário para tradução das colunas (en -> pt)\n",
    "dict_col_name = {\n",
    "    'person_age': 'idade',\n",
    "    'person_income': 'salario',\n",
    "    'person_home_ownership': 'situacao_moradia',\n",
    "    'person_emp_length': 'tempo_trabalho',\n",
    "    'loan_intent': 'motivo_emprestimo',\n",
    "    'loan_grade': 'pontuacao_emprestimo',\n",
    "    'loan_amnt': 'valor_emprestimo',\n",
    "    'loan_int_rate': 'taxa_juros',\n",
    "    'loan_status': 'inadimplencia',\n",
    "    'loan_percent_income': 'renda_percentual_emprestimo',\n",
    "    'cb_person_default_on_file': 'devendo',\n",
    "    'cb_person_cred_hist_length': 'tempo_de_credito'\n",
    "}"
   ]
  },
  {
   "cell_type": "code",
   "execution_count": 4,
   "metadata": {},
   "outputs": [
    {
     "data": {
      "text/html": [
       "<div>\n",
       "<style scoped>\n",
       "    .dataframe tbody tr th:only-of-type {\n",
       "        vertical-align: middle;\n",
       "    }\n",
       "\n",
       "    .dataframe tbody tr th {\n",
       "        vertical-align: top;\n",
       "    }\n",
       "\n",
       "    .dataframe thead th {\n",
       "        text-align: right;\n",
       "    }\n",
       "</style>\n",
       "<table border=\"1\" class=\"dataframe\">\n",
       "  <thead>\n",
       "    <tr style=\"text-align: right;\">\n",
       "      <th></th>\n",
       "      <th>idade</th>\n",
       "      <th>salario</th>\n",
       "      <th>situacao_moradia</th>\n",
       "      <th>tempo_trabalho</th>\n",
       "      <th>motivo_emprestimo</th>\n",
       "      <th>pontuacao_emprestimo</th>\n",
       "      <th>valor_emprestimo</th>\n",
       "      <th>taxa_juros</th>\n",
       "      <th>inadimplencia</th>\n",
       "      <th>renda_percentual_emprestimo</th>\n",
       "      <th>devendo</th>\n",
       "      <th>tempo_de_credito</th>\n",
       "    </tr>\n",
       "  </thead>\n",
       "  <tbody>\n",
       "    <tr>\n",
       "      <th>0</th>\n",
       "      <td>21.0</td>\n",
       "      <td>60000.0</td>\n",
       "      <td>Rent</td>\n",
       "      <td>2.0</td>\n",
       "      <td>Education</td>\n",
       "      <td>B</td>\n",
       "      <td>8000.0</td>\n",
       "      <td>11.26</td>\n",
       "      <td>0.0</td>\n",
       "      <td>0.13</td>\n",
       "      <td>N</td>\n",
       "      <td>3.0</td>\n",
       "    </tr>\n",
       "    <tr>\n",
       "      <th>1</th>\n",
       "      <td>40.0</td>\n",
       "      <td>70000.0</td>\n",
       "      <td>Mortgage</td>\n",
       "      <td>6.0</td>\n",
       "      <td>Education</td>\n",
       "      <td>A</td>\n",
       "      <td>18000.0</td>\n",
       "      <td>7.90</td>\n",
       "      <td>0.0</td>\n",
       "      <td>0.26</td>\n",
       "      <td>N</td>\n",
       "      <td>14.0</td>\n",
       "    </tr>\n",
       "    <tr>\n",
       "      <th>2</th>\n",
       "      <td>29.0</td>\n",
       "      <td>115000.0</td>\n",
       "      <td>Mortgage</td>\n",
       "      <td>3.0</td>\n",
       "      <td>Medical</td>\n",
       "      <td>C</td>\n",
       "      <td>22000.0</td>\n",
       "      <td>15.23</td>\n",
       "      <td>0.0</td>\n",
       "      <td>0.19</td>\n",
       "      <td>Y</td>\n",
       "      <td>7.0</td>\n",
       "    </tr>\n",
       "    <tr>\n",
       "      <th>3</th>\n",
       "      <td>26.0</td>\n",
       "      <td>84996.0</td>\n",
       "      <td>Rent</td>\n",
       "      <td>0.0</td>\n",
       "      <td>Medical</td>\n",
       "      <td>B</td>\n",
       "      <td>9000.0</td>\n",
       "      <td>11.26</td>\n",
       "      <td>0.0</td>\n",
       "      <td>0.11</td>\n",
       "      <td>N</td>\n",
       "      <td>2.0</td>\n",
       "    </tr>\n",
       "    <tr>\n",
       "      <th>4</th>\n",
       "      <td>23.0</td>\n",
       "      <td>54500.0</td>\n",
       "      <td>Rent</td>\n",
       "      <td>2.0</td>\n",
       "      <td>Debtconsolidation</td>\n",
       "      <td>A</td>\n",
       "      <td>8000.0</td>\n",
       "      <td>NaN</td>\n",
       "      <td>0.0</td>\n",
       "      <td>0.15</td>\n",
       "      <td>N</td>\n",
       "      <td>2.0</td>\n",
       "    </tr>\n",
       "  </tbody>\n",
       "</table>\n",
       "</div>"
      ],
      "text/plain": [
       "   idade   salario situacao_moradia  tempo_trabalho  motivo_emprestimo  \\\n",
       "0   21.0   60000.0             Rent             2.0          Education   \n",
       "1   40.0   70000.0         Mortgage             6.0          Education   \n",
       "2   29.0  115000.0         Mortgage             3.0            Medical   \n",
       "3   26.0   84996.0             Rent             0.0            Medical   \n",
       "4   23.0   54500.0             Rent             2.0  Debtconsolidation   \n",
       "\n",
       "  pontuacao_emprestimo  valor_emprestimo  taxa_juros  inadimplencia  \\\n",
       "0                    B            8000.0       11.26            0.0   \n",
       "1                    A           18000.0        7.90            0.0   \n",
       "2                    C           22000.0       15.23            0.0   \n",
       "3                    B            9000.0       11.26            0.0   \n",
       "4                    A            8000.0         NaN            0.0   \n",
       "\n",
       "   renda_percentual_emprestimo devendo  tempo_de_credito  \n",
       "0                         0.13       N               3.0  \n",
       "1                         0.26       N              14.0  \n",
       "2                         0.19       Y               7.0  \n",
       "3                         0.11       N               2.0  \n",
       "4                         0.15       N               2.0  "
      ]
     },
     "execution_count": 4,
     "metadata": {},
     "output_type": "execute_result"
    }
   ],
   "source": [
    "# Renomeando Colunas (Axis = 1 -> Coluna)\n",
    "dados.rename(dict_col_name, axis= 1, inplace=True)\n",
    "dados.head(5)"
   ]
  },
  {
   "attachments": {},
   "cell_type": "markdown",
   "metadata": {},
   "source": [
    "#### Renomeando dados"
   ]
  },
  {
   "cell_type": "code",
   "execution_count": 5,
   "metadata": {},
   "outputs": [],
   "source": [
    "# Declarando dicionário para tradução dos dados das colunas (en -> pt)\n",
    "dict_situacao_moradia = {\n",
    "    'Rent': 'Alugada',\n",
    "    'Own': 'Propria',\n",
    "    'Mortgage': 'Hipotecada',\n",
    "    'Other': 'Outros'\n",
    "}\n",
    "\n",
    "dict_motivo_emprestimo = {\n",
    "    'Personal':'Pessoal',\n",
    "    'Education': 'Educativo',\n",
    "    'Medical':'Medico',\n",
    "    'Venture':'Empreendimento',\n",
    "    'Homeimprovement': 'Melhoria do Lar',\n",
    "    'Debtconsolidation': 'Pagamento de Debitos'\n",
    "}"
   ]
  },
  {
   "cell_type": "code",
   "execution_count": 6,
   "metadata": {},
   "outputs": [
    {
     "data": {
      "text/html": [
       "<div>\n",
       "<style scoped>\n",
       "    .dataframe tbody tr th:only-of-type {\n",
       "        vertical-align: middle;\n",
       "    }\n",
       "\n",
       "    .dataframe tbody tr th {\n",
       "        vertical-align: top;\n",
       "    }\n",
       "\n",
       "    .dataframe thead th {\n",
       "        text-align: right;\n",
       "    }\n",
       "</style>\n",
       "<table border=\"1\" class=\"dataframe\">\n",
       "  <thead>\n",
       "    <tr style=\"text-align: right;\">\n",
       "      <th></th>\n",
       "      <th>idade</th>\n",
       "      <th>salario</th>\n",
       "      <th>situacao_moradia</th>\n",
       "      <th>tempo_trabalho</th>\n",
       "      <th>motivo_emprestimo</th>\n",
       "      <th>pontuacao_emprestimo</th>\n",
       "      <th>valor_emprestimo</th>\n",
       "      <th>taxa_juros</th>\n",
       "      <th>inadimplencia</th>\n",
       "      <th>renda_percentual_emprestimo</th>\n",
       "      <th>devendo</th>\n",
       "      <th>tempo_de_credito</th>\n",
       "    </tr>\n",
       "  </thead>\n",
       "  <tbody>\n",
       "    <tr>\n",
       "      <th>0</th>\n",
       "      <td>21.0</td>\n",
       "      <td>60000.0</td>\n",
       "      <td>Alugada</td>\n",
       "      <td>2.0</td>\n",
       "      <td>Education</td>\n",
       "      <td>B</td>\n",
       "      <td>8000.0</td>\n",
       "      <td>11.26</td>\n",
       "      <td>0.0</td>\n",
       "      <td>0.13</td>\n",
       "      <td>N</td>\n",
       "      <td>3.0</td>\n",
       "    </tr>\n",
       "    <tr>\n",
       "      <th>1</th>\n",
       "      <td>40.0</td>\n",
       "      <td>70000.0</td>\n",
       "      <td>Hipotecada</td>\n",
       "      <td>6.0</td>\n",
       "      <td>Education</td>\n",
       "      <td>A</td>\n",
       "      <td>18000.0</td>\n",
       "      <td>7.90</td>\n",
       "      <td>0.0</td>\n",
       "      <td>0.26</td>\n",
       "      <td>N</td>\n",
       "      <td>14.0</td>\n",
       "    </tr>\n",
       "    <tr>\n",
       "      <th>2</th>\n",
       "      <td>29.0</td>\n",
       "      <td>115000.0</td>\n",
       "      <td>Hipotecada</td>\n",
       "      <td>3.0</td>\n",
       "      <td>Medical</td>\n",
       "      <td>C</td>\n",
       "      <td>22000.0</td>\n",
       "      <td>15.23</td>\n",
       "      <td>0.0</td>\n",
       "      <td>0.19</td>\n",
       "      <td>Y</td>\n",
       "      <td>7.0</td>\n",
       "    </tr>\n",
       "    <tr>\n",
       "      <th>3</th>\n",
       "      <td>26.0</td>\n",
       "      <td>84996.0</td>\n",
       "      <td>Alugada</td>\n",
       "      <td>0.0</td>\n",
       "      <td>Medical</td>\n",
       "      <td>B</td>\n",
       "      <td>9000.0</td>\n",
       "      <td>11.26</td>\n",
       "      <td>0.0</td>\n",
       "      <td>0.11</td>\n",
       "      <td>N</td>\n",
       "      <td>2.0</td>\n",
       "    </tr>\n",
       "    <tr>\n",
       "      <th>4</th>\n",
       "      <td>23.0</td>\n",
       "      <td>54500.0</td>\n",
       "      <td>Alugada</td>\n",
       "      <td>2.0</td>\n",
       "      <td>Debtconsolidation</td>\n",
       "      <td>A</td>\n",
       "      <td>8000.0</td>\n",
       "      <td>NaN</td>\n",
       "      <td>0.0</td>\n",
       "      <td>0.15</td>\n",
       "      <td>N</td>\n",
       "      <td>2.0</td>\n",
       "    </tr>\n",
       "  </tbody>\n",
       "</table>\n",
       "</div>"
      ],
      "text/plain": [
       "   idade   salario situacao_moradia  tempo_trabalho  motivo_emprestimo  \\\n",
       "0   21.0   60000.0          Alugada             2.0          Education   \n",
       "1   40.0   70000.0       Hipotecada             6.0          Education   \n",
       "2   29.0  115000.0       Hipotecada             3.0            Medical   \n",
       "3   26.0   84996.0          Alugada             0.0            Medical   \n",
       "4   23.0   54500.0          Alugada             2.0  Debtconsolidation   \n",
       "\n",
       "  pontuacao_emprestimo  valor_emprestimo  taxa_juros  inadimplencia  \\\n",
       "0                    B            8000.0       11.26            0.0   \n",
       "1                    A           18000.0        7.90            0.0   \n",
       "2                    C           22000.0       15.23            0.0   \n",
       "3                    B            9000.0       11.26            0.0   \n",
       "4                    A            8000.0         NaN            0.0   \n",
       "\n",
       "   renda_percentual_emprestimo devendo  tempo_de_credito  \n",
       "0                         0.13       N               3.0  \n",
       "1                         0.26       N              14.0  \n",
       "2                         0.19       Y               7.0  \n",
       "3                         0.11       N               2.0  \n",
       "4                         0.15       N               2.0  "
      ]
     },
     "execution_count": 6,
     "metadata": {},
     "output_type": "execute_result"
    }
   ],
   "source": [
    "# Renomeando dados de tradução\n",
    "dados.replace(dict_situacao_moradia, inplace=True)\n",
    "dados.head(5)"
   ]
  },
  {
   "cell_type": "code",
   "execution_count": 7,
   "metadata": {},
   "outputs": [
    {
     "data": {
      "text/plain": [
       "array(['Educativo', 'Medico', 'Pagamento de Debitos', 'Pessoal',\n",
       "       'Empreendimento', 'Melhoria do Lar', nan], dtype=object)"
      ]
     },
     "execution_count": 7,
     "metadata": {},
     "output_type": "execute_result"
    }
   ],
   "source": [
    "# Renomeando dados de tradução\n",
    "dados.replace(dict_motivo_emprestimo, inplace=True)\n",
    "dados['motivo_emprestimo'].unique()"
   ]
  },
  {
   "attachments": {},
   "cell_type": "markdown",
   "metadata": {},
   "source": [
    "## Análise Exploratória"
   ]
  },
  {
   "attachments": {},
   "cell_type": "markdown",
   "metadata": {},
   "source": [
    "OBJETIVO\n",
    "\n",
    "Explorar os dados e Identificar Dados Nulos, Valores Inconsistentes e Outliers"
   ]
  },
  {
   "cell_type": "code",
   "execution_count": 8,
   "metadata": {},
   "outputs": [
    {
     "name": "stdout",
     "output_type": "stream",
     "text": [
      "Tamanho do Dataset: 34501\n"
     ]
    }
   ],
   "source": [
    "# Verificando a qtd de registros\n",
    "print(f'Tamanho do Dataset: {dados.shape[0]}')"
   ]
  },
  {
   "cell_type": "code",
   "execution_count": 9,
   "metadata": {},
   "outputs": [
    {
     "name": "stdout",
     "output_type": "stream",
     "text": [
      "A Taxa de Pessoas com histórico de inadimplência é de: 17.59%\n"
     ]
    }
   ],
   "source": [
    "# Verificando a taxa de inadimplentes\n",
    "inadimplentes_perc = dados['devendo'].value_counts(normalize= True)\n",
    "print(f'A Taxa de Pessoas com histórico de inadimplência é de: {(inadimplentes_perc[1] * 100).round(2)}%')"
   ]
  },
  {
   "attachments": {},
   "cell_type": "markdown",
   "metadata": {},
   "source": [
    "#### Dados Nulos"
   ]
  },
  {
   "cell_type": "code",
   "execution_count": 10,
   "metadata": {},
   "outputs": [
    {
     "name": "stdout",
     "output_type": "stream",
     "text": [
      "<class 'pandas.core.frame.DataFrame'>\n",
      "RangeIndex: 34501 entries, 0 to 34500\n",
      "Data columns (total 12 columns):\n",
      " #   Column                       Non-Null Count  Dtype  \n",
      "---  ------                       --------------  -----  \n",
      " 0   idade                        34177 non-null  float64\n",
      " 1   salario                      34162 non-null  float64\n",
      " 2   situacao_moradia             34170 non-null  object \n",
      " 3   tempo_trabalho               33247 non-null  float64\n",
      " 4   motivo_emprestimo            34186 non-null  object \n",
      " 5   pontuacao_emprestimo         34188 non-null  object \n",
      " 6   valor_emprestimo             34170 non-null  float64\n",
      " 7   taxa_juros                   30871 non-null  float64\n",
      " 8   inadimplencia                34158 non-null  float64\n",
      " 9   renda_percentual_emprestimo  34182 non-null  float64\n",
      " 10  devendo                      34131 non-null  object \n",
      " 11  tempo_de_credito             34497 non-null  float64\n",
      "dtypes: float64(8), object(4)\n",
      "memory usage: 3.2+ MB\n"
     ]
    }
   ],
   "source": [
    "# Verificando os dados\n",
    "dados.info()"
   ]
  },
  {
   "attachments": {},
   "cell_type": "markdown",
   "metadata": {},
   "source": [
    "- É possivel verificar a existência de dados nulos em todas os campos."
   ]
  },
  {
   "attachments": {},
   "cell_type": "markdown",
   "metadata": {},
   "source": [
    "#### Inconsistência de Dados Categóricos"
   ]
  },
  {
   "cell_type": "code",
   "execution_count": 11,
   "metadata": {},
   "outputs": [
    {
     "data": {
      "text/plain": [
       "array(['Alugada', 'Hipotecada', 'Propria', 'Outros', nan], dtype=object)"
      ]
     },
     "execution_count": 11,
     "metadata": {},
     "output_type": "execute_result"
    }
   ],
   "source": [
    "# Verificando os Dados Categoricos (Dados inconsistentes)\n",
    "dados['situacao_moradia'].unique()"
   ]
  },
  {
   "cell_type": "code",
   "execution_count": 12,
   "metadata": {},
   "outputs": [
    {
     "data": {
      "text/plain": [
       "array(['Educativo', 'Medico', 'Pagamento de Debitos', 'Pessoal',\n",
       "       'Empreendimento', 'Melhoria do Lar', nan], dtype=object)"
      ]
     },
     "execution_count": 12,
     "metadata": {},
     "output_type": "execute_result"
    }
   ],
   "source": [
    "dados['motivo_emprestimo'].unique()"
   ]
  },
  {
   "cell_type": "code",
   "execution_count": 13,
   "metadata": {},
   "outputs": [
    {
     "data": {
      "text/plain": [
       "array(['B', 'A', 'C', 'D', 'E', 'F', nan, 'G'], dtype=object)"
      ]
     },
     "execution_count": 13,
     "metadata": {},
     "output_type": "execute_result"
    }
   ],
   "source": [
    "dados['pontuacao_emprestimo'].unique()"
   ]
  },
  {
   "attachments": {},
   "cell_type": "markdown",
   "metadata": {},
   "source": [
    "- Dados Categóricos sem inconsistência de dados e com valores nulos ('nan')\n",
    "- Os campos de `situacao_moradia`, `motivo_emprestimo` e `pontuacao_emprestimo` possuem mais de 2 categorias, portanto o procedimento de one hot encoding precisará ser realizado"
   ]
  },
  {
   "attachments": {},
   "cell_type": "markdown",
   "metadata": {},
   "source": [
    "#### Presença de Outliers"
   ]
  },
  {
   "cell_type": "code",
   "execution_count": 14,
   "metadata": {},
   "outputs": [
    {
     "data": {
      "text/html": [
       "<div>\n",
       "<style scoped>\n",
       "    .dataframe tbody tr th:only-of-type {\n",
       "        vertical-align: middle;\n",
       "    }\n",
       "\n",
       "    .dataframe tbody tr th {\n",
       "        vertical-align: top;\n",
       "    }\n",
       "\n",
       "    .dataframe thead th {\n",
       "        text-align: right;\n",
       "    }\n",
       "</style>\n",
       "<table border=\"1\" class=\"dataframe\">\n",
       "  <thead>\n",
       "    <tr style=\"text-align: right;\">\n",
       "      <th></th>\n",
       "      <th>count</th>\n",
       "      <th>mean</th>\n",
       "      <th>std</th>\n",
       "      <th>min</th>\n",
       "      <th>25%</th>\n",
       "      <th>50%</th>\n",
       "      <th>75%</th>\n",
       "      <th>max</th>\n",
       "    </tr>\n",
       "  </thead>\n",
       "  <tbody>\n",
       "    <tr>\n",
       "      <th>idade</th>\n",
       "      <td>34177.0</td>\n",
       "      <td>27.731</td>\n",
       "      <td>6.345</td>\n",
       "      <td>20.00</td>\n",
       "      <td>23.00</td>\n",
       "      <td>26.00</td>\n",
       "      <td>30.00</td>\n",
       "      <td>144.00</td>\n",
       "    </tr>\n",
       "    <tr>\n",
       "      <th>salario</th>\n",
       "      <td>34162.0</td>\n",
       "      <td>66028.688</td>\n",
       "      <td>61405.058</td>\n",
       "      <td>4000.00</td>\n",
       "      <td>38493.00</td>\n",
       "      <td>55000.00</td>\n",
       "      <td>79200.00</td>\n",
       "      <td>6000000.00</td>\n",
       "    </tr>\n",
       "    <tr>\n",
       "      <th>tempo_trabalho</th>\n",
       "      <td>33247.0</td>\n",
       "      <td>4.787</td>\n",
       "      <td>4.137</td>\n",
       "      <td>0.00</td>\n",
       "      <td>2.00</td>\n",
       "      <td>4.00</td>\n",
       "      <td>7.00</td>\n",
       "      <td>123.00</td>\n",
       "    </tr>\n",
       "    <tr>\n",
       "      <th>valor_emprestimo</th>\n",
       "      <td>34170.0</td>\n",
       "      <td>9590.577</td>\n",
       "      <td>6320.429</td>\n",
       "      <td>500.00</td>\n",
       "      <td>5000.00</td>\n",
       "      <td>8000.00</td>\n",
       "      <td>12200.00</td>\n",
       "      <td>35000.00</td>\n",
       "    </tr>\n",
       "    <tr>\n",
       "      <th>taxa_juros</th>\n",
       "      <td>30871.0</td>\n",
       "      <td>11.014</td>\n",
       "      <td>3.241</td>\n",
       "      <td>5.42</td>\n",
       "      <td>7.90</td>\n",
       "      <td>10.99</td>\n",
       "      <td>13.47</td>\n",
       "      <td>23.22</td>\n",
       "    </tr>\n",
       "    <tr>\n",
       "      <th>inadimplencia</th>\n",
       "      <td>34158.0</td>\n",
       "      <td>0.218</td>\n",
       "      <td>0.413</td>\n",
       "      <td>0.00</td>\n",
       "      <td>0.00</td>\n",
       "      <td>0.00</td>\n",
       "      <td>0.00</td>\n",
       "      <td>1.00</td>\n",
       "    </tr>\n",
       "    <tr>\n",
       "      <th>renda_percentual_emprestimo</th>\n",
       "      <td>34182.0</td>\n",
       "      <td>0.170</td>\n",
       "      <td>0.107</td>\n",
       "      <td>0.00</td>\n",
       "      <td>0.09</td>\n",
       "      <td>0.15</td>\n",
       "      <td>0.23</td>\n",
       "      <td>0.83</td>\n",
       "    </tr>\n",
       "    <tr>\n",
       "      <th>tempo_de_credito</th>\n",
       "      <td>34497.0</td>\n",
       "      <td>5.808</td>\n",
       "      <td>4.063</td>\n",
       "      <td>2.00</td>\n",
       "      <td>3.00</td>\n",
       "      <td>4.00</td>\n",
       "      <td>8.00</td>\n",
       "      <td>30.00</td>\n",
       "    </tr>\n",
       "  </tbody>\n",
       "</table>\n",
       "</div>"
      ],
      "text/plain": [
       "                               count       mean        std      min       25%  \\\n",
       "idade                        34177.0     27.731      6.345    20.00     23.00   \n",
       "salario                      34162.0  66028.688  61405.058  4000.00  38493.00   \n",
       "tempo_trabalho               33247.0      4.787      4.137     0.00      2.00   \n",
       "valor_emprestimo             34170.0   9590.577   6320.429   500.00   5000.00   \n",
       "taxa_juros                   30871.0     11.014      3.241     5.42      7.90   \n",
       "inadimplencia                34158.0      0.218      0.413     0.00      0.00   \n",
       "renda_percentual_emprestimo  34182.0      0.170      0.107     0.00      0.09   \n",
       "tempo_de_credito             34497.0      5.808      4.063     2.00      3.00   \n",
       "\n",
       "                                  50%       75%         max  \n",
       "idade                           26.00     30.00      144.00  \n",
       "salario                      55000.00  79200.00  6000000.00  \n",
       "tempo_trabalho                   4.00      7.00      123.00  \n",
       "valor_emprestimo              8000.00  12200.00    35000.00  \n",
       "taxa_juros                      10.99     13.47       23.22  \n",
       "inadimplencia                    0.00      0.00        1.00  \n",
       "renda_percentual_emprestimo      0.15      0.23        0.83  \n",
       "tempo_de_credito                 4.00      8.00       30.00  "
      ]
     },
     "execution_count": 14,
     "metadata": {},
     "output_type": "execute_result"
    }
   ],
   "source": [
    "dados.describe().round(3).T"
   ]
  },
  {
   "attachments": {},
   "cell_type": "markdown",
   "metadata": {},
   "source": [
    "- Identificado valores discrepantes através dos valores máx, dos seguintes campos: `idade`, `tempo_trabalho`, `salario`"
   ]
  },
  {
   "cell_type": "code",
   "execution_count": 15,
   "metadata": {},
   "outputs": [
    {
     "data": {
      "text/plain": [
       "<AxesSubplot: >"
      ]
     },
     "execution_count": 15,
     "metadata": {},
     "output_type": "execute_result"
    },
    {
     "data": {
      "image/png": "[encoded data removed]",
      "text/plain": [
       "<Figure size 1400x600 with 1 Axes>"
      ]
     },
     "metadata": {},
     "output_type": "display_data"
    }
   ],
   "source": [
    "# Visualizando os dados de idade\n",
    "dados.boxplot('idade')"
   ]
  },
  {
   "cell_type": "code",
   "execution_count": 16,
   "metadata": {},
   "outputs": [
    {
     "data": {
      "text/plain": [
       "<AxesSubplot: >"
      ]
     },
     "execution_count": 16,
     "metadata": {},
     "output_type": "execute_result"
    },
    {
     "data": {
      "image/png": "[encoded data removed]",
      "text/plain": [
       "<Figure size 1400x600 with 1 Axes>"
      ]
     },
     "metadata": {},
     "output_type": "display_data"
    }
   ],
   "source": [
    "# Visualizando os dados de tempo de trabalho\n",
    "dados.boxplot('tempo_trabalho')"
   ]
  },
  {
   "cell_type": "code",
   "execution_count": 17,
   "metadata": {},
   "outputs": [
    {
     "data": {
      "text/plain": [
       "<AxesSubplot: >"
      ]
     },
     "execution_count": 17,
     "metadata": {},
     "output_type": "execute_result"
    },
    {
     "data": {
      "image/png": "[encoded data removed]",
      "text/plain": [
       "<Figure size 1400x600 with 1 Axes>"
      ]
     },
     "metadata": {},
     "output_type": "display_data"
    }
   ],
   "source": [
    "# Visualizando os dados de idade\n",
    "dados.boxplot('salario')"
   ]
  },
  {
   "attachments": {},
   "cell_type": "markdown",
   "metadata": {},
   "source": [
    "## Limpeza dos Dados"
   ]
  },
  {
   "attachments": {},
   "cell_type": "markdown",
   "metadata": {},
   "source": [
    "Com base na análise feita anteriormente será iniciado a limpeza dos dados.\n",
    "\n",
    "Será verificado  a quantidade de registros antes e após a limpeza de dados nulos para descobrir quantos dados serão perdidos no processo."
   ]
  },
  {
   "attachments": {},
   "cell_type": "markdown",
   "metadata": {},
   "source": [
    "#### Remoção de Dados Nulos"
   ]
  },
  {
   "cell_type": "code",
   "execution_count": 18,
   "metadata": {},
   "outputs": [
    {
     "name": "stdout",
     "output_type": "stream",
     "text": [
      "Qtd de Dados Nulos:\n",
      "idade                           324\n",
      "salario                         339\n",
      "situacao_moradia                331\n",
      "tempo_trabalho                 1254\n",
      "motivo_emprestimo               315\n",
      "pontuacao_emprestimo            313\n",
      "valor_emprestimo                331\n",
      "taxa_juros                     3630\n",
      "inadimplencia                   343\n",
      "renda_percentual_emprestimo     319\n",
      "devendo                         370\n",
      "tempo_de_credito                  4\n",
      "dtype: int64\n"
     ]
    }
   ],
   "source": [
    "# Verificando a qtd de valores nulos\n",
    "print(f'Qtd de Dados Nulos:\\n{dados.isnull().sum()}')"
   ]
  },
  {
   "cell_type": "code",
   "execution_count": 19,
   "metadata": {},
   "outputs": [
    {
     "name": "stdout",
     "output_type": "stream",
     "text": [
      "Foram removidos 5863, Total de Registros Atual: 28638\n"
     ]
    }
   ],
   "source": [
    "# Remoção de todos dados nulos\n",
    "a = dados.shape[0]\n",
    "dados_tratados = dados.dropna()\n",
    "b = dados_tratados.shape[0]\n",
    "print(f'Foram removidos {a-b}, Total de Registros Atual: {b}')"
   ]
  },
  {
   "cell_type": "code",
   "execution_count": 20,
   "metadata": {},
   "outputs": [
    {
     "data": {
      "text/plain": [
       "idade                          0\n",
       "salario                        0\n",
       "situacao_moradia               0\n",
       "tempo_trabalho                 0\n",
       "motivo_emprestimo              0\n",
       "pontuacao_emprestimo           0\n",
       "valor_emprestimo               0\n",
       "taxa_juros                     0\n",
       "inadimplencia                  0\n",
       "renda_percentual_emprestimo    0\n",
       "devendo                        0\n",
       "tempo_de_credito               0\n",
       "dtype: int64"
      ]
     },
     "execution_count": 20,
     "metadata": {},
     "output_type": "execute_result"
    }
   ],
   "source": [
    "# Checkando se há valores Nulos - OK\n",
    "dados_tratados.isnull().sum()"
   ]
  },
  {
   "cell_type": "markdown",
   "metadata": {},
   "source": [
    "#### Remoção de Outliers"
   ]
  },
  {
   "attachments": {},
   "cell_type": "markdown",
   "metadata": {},
   "source": [
    "Um dado é considerado outlier se:\n",
    "\n",
    "- Dados < Q1 - 1.5 * IQR (limite inferior)\n",
    "- Dados > Q3 + 1.5 * IQR (limite superior)\n",
    "\n",
    "Para cálculo do IIQ, considere: IIQ = Q3 - Q1"
   ]
  },
  {
   "attachments": {},
   "cell_type": "markdown",
   "metadata": {},
   "source": [
    " Será removido os outliers identificados nas colunas de : `idade`, `tempo_trabalho`, `salario`"
   ]
  },
  {
   "cell_type": "code",
   "execution_count": 21,
   "metadata": {},
   "outputs": [],
   "source": [
    "# Calculando os limites para identificação dos outliers\n",
    "iqr_idade = iqr(dados_tratados['idade'])\n",
    "li = np.quantile(dados_tratados['idade'], 0.25) - 1.5 * iqr_idade\n",
    "ls = np.quantile(dados_tratados['idade'], 0.75) + 1.5 * iqr_idade"
   ]
  },
  {
   "cell_type": "code",
   "execution_count": 22,
   "metadata": {},
   "outputs": [
    {
     "name": "stdout",
     "output_type": "stream",
     "text": [
      "Foram removidos 1298, Total de Registros Atual: 27340\n"
     ]
    }
   ],
   "source": [
    "# Realizando um Subset dos dados sem os outliers\n",
    "a = dados_tratados.shape[0]\n",
    "dados_tratados = dados_tratados[(dados_tratados['idade'] > li) & (dados_tratados['idade'] < ls)]\n",
    "b = dados_tratados.shape[0]\n",
    "print(f'Foram removidos {a-b}, Total de Registros Atual: {b}')"
   ]
  },
  {
   "cell_type": "code",
   "execution_count": 23,
   "metadata": {},
   "outputs": [
    {
     "data": {
      "text/plain": [
       "<AxesSubplot: >"
      ]
     },
     "execution_count": 23,
     "metadata": {},
     "output_type": "execute_result"
    },
    {
     "data": {
      "image/png": "[encoded data removed]",
      "text/plain": [
       "<Figure size 1400x600 with 1 Axes>"
      ]
     },
     "metadata": {},
     "output_type": "display_data"
    }
   ],
   "source": [
    "dados_tratados.boxplot('idade')"
   ]
  },
  {
   "cell_type": "code",
   "execution_count": 24,
   "metadata": {},
   "outputs": [],
   "source": [
    "# Calculando os limites para identificação dos outliers\n",
    "iqr_tempo_trabalho = iqr(dados_tratados['tempo_trabalho'])\n",
    "li = np.quantile(dados_tratados['tempo_trabalho'], 0.25) - 1.5 * iqr_tempo_trabalho\n",
    "ls = np.quantile(dados_tratados['tempo_trabalho'], 0.75) + 1.5 * iqr_tempo_trabalho"
   ]
  },
  {
   "cell_type": "code",
   "execution_count": 25,
   "metadata": {},
   "outputs": [
    {
     "name": "stdout",
     "output_type": "stream",
     "text": [
      "Foram removidos 629, Total de Registros Atual: 26711\n"
     ]
    }
   ],
   "source": [
    "# Realizando um Subset dos dados sem os outliers\n",
    "a = dados_tratados.shape[0]\n",
    "dados_tratados = dados_tratados[(dados_tratados['tempo_trabalho'] > li) & (dados_tratados['tempo_trabalho'] < ls)]\n",
    "b = dados_tratados.shape[0]\n",
    "print(f'Foram removidos {a-b}, Total de Registros Atual: {b}')"
   ]
  },
  {
   "cell_type": "code",
   "execution_count": 26,
   "metadata": {},
   "outputs": [
    {
     "data": {
      "text/plain": [
       "<AxesSubplot: >"
      ]
     },
     "execution_count": 26,
     "metadata": {},
     "output_type": "execute_result"
    },
    {
     "data": {
      "image/png": "[encoded data removed]",
      "text/plain": [
       "<Figure size 1400x600 with 1 Axes>"
      ]
     },
     "metadata": {},
     "output_type": "display_data"
    }
   ],
   "source": [
    "dados_tratados.boxplot('tempo_trabalho')"
   ]
  },
  {
   "cell_type": "code",
   "execution_count": 27,
   "metadata": {},
   "outputs": [],
   "source": [
    "# Calculando os limites para identificação dos outliers\n",
    "iqr_salario = iqr(dados_tratados['salario'])\n",
    "li = np.quantile(dados_tratados['salario'], 0.25) - 1.5 * iqr_salario\n",
    "ls = np.quantile(dados_tratados['salario'], 0.75) + 1.5 * iqr_salario"
   ]
  },
  {
   "cell_type": "code",
   "execution_count": 28,
   "metadata": {},
   "outputs": [
    {
     "name": "stdout",
     "output_type": "stream",
     "text": [
      "Foram removidos 1297, Total de Registros Atual: 25414\n"
     ]
    }
   ],
   "source": [
    "# Realizando um Subset dos dados sem os outliers\n",
    "a = dados_tratados.shape[0]\n",
    "dados_tratados = dados_tratados[(dados_tratados['salario'] > li) & (dados_tratados['salario'] < ls)]\n",
    "b = dados_tratados.shape[0]\n",
    "print(f'Foram removidos {a-b}, Total de Registros Atual: {b}')"
   ]
  },
  {
   "cell_type": "code",
   "execution_count": 29,
   "metadata": {},
   "outputs": [
    {
     "data": {
      "text/plain": [
       "<AxesSubplot: >"
      ]
     },
     "execution_count": 29,
     "metadata": {},
     "output_type": "execute_result"
    },
    {
     "data": {
      "image/png": "[encoded data removed]",
      "text/plain": [
       "<Figure size 1400x600 with 1 Axes>"
      ]
     },
     "metadata": {},
     "output_type": "display_data"
    }
   ],
   "source": [
    "#verificando os dados\n",
    "dados_tratados.boxplot('salario')"
   ]
  },
  {
   "attachments": {},
   "cell_type": "markdown",
   "metadata": {},
   "source": [
    "#### Alteração do dtype "
   ]
  },
  {
   "cell_type": "code",
   "execution_count": 30,
   "metadata": {},
   "outputs": [],
   "source": [
    "# Alteração do Dtype do tipo float64 para int64\n",
    "dados_tratados['tempo_trabalho'] = dados_tratados['tempo_trabalho'].astype('int64')"
   ]
  },
  {
   "cell_type": "code",
   "execution_count": 31,
   "metadata": {},
   "outputs": [
    {
     "name": "stdout",
     "output_type": "stream",
     "text": [
      "A Taxa de Pessoas com histórico de inadimplência é de: 17.83%\n"
     ]
    }
   ],
   "source": [
    "# Verificando a taxa de inadimplentes após tratamento dos dados\n",
    "inadimplentes_perc = dados_tratados['devendo'].value_counts(normalize= True)\n",
    "print(f'A Taxa de Pessoas com histórico de inadimplência é de: {(inadimplentes_perc[1] * 100).round(2)}%')"
   ]
  },
  {
   "attachments": {},
   "cell_type": "markdown",
   "metadata": {},
   "source": [
    "## Preparação dos Dados"
   ]
  },
  {
   "attachments": {},
   "cell_type": "markdown",
   "metadata": {},
   "source": [
    "Agora se inicia o processo de tratamento de dados para que possam ser usados na etapa de modelagem.\n",
    "\n",
    "As variáveis categóricas serão transformadas em variáveis dummy e as variáveis serão normalizadas para ficarem em uma mesma escala para que variáveis com escalas maiores não tenham peso maior que as outras."
   ]
  },
  {
   "cell_type": "code",
   "execution_count": 32,
   "metadata": {},
   "outputs": [
    {
     "name": "stdout",
     "output_type": "stream",
     "text": [
      "<class 'pandas.core.frame.DataFrame'>\n",
      "Int64Index: 25414 entries, 0 to 34500\n",
      "Data columns (total 12 columns):\n",
      " #   Column                       Non-Null Count  Dtype  \n",
      "---  ------                       --------------  -----  \n",
      " 0   idade                        25414 non-null  float64\n",
      " 1   salario                      25414 non-null  float64\n",
      " 2   situacao_moradia             25414 non-null  object \n",
      " 3   tempo_trabalho               25414 non-null  int64  \n",
      " 4   motivo_emprestimo            25414 non-null  object \n",
      " 5   pontuacao_emprestimo         25414 non-null  object \n",
      " 6   valor_emprestimo             25414 non-null  float64\n",
      " 7   taxa_juros                   25414 non-null  float64\n",
      " 8   inadimplencia                25414 non-null  float64\n",
      " 9   renda_percentual_emprestimo  25414 non-null  float64\n",
      " 10  devendo                      25414 non-null  object \n",
      " 11  tempo_de_credito             25414 non-null  float64\n",
      "dtypes: float64(7), int64(1), object(4)\n",
      "memory usage: 2.5+ MB\n"
     ]
    }
   ],
   "source": [
    "dados_tratados.info()"
   ]
  },
  {
   "cell_type": "markdown",
   "metadata": {},
   "source": [
    "#### Teste de Correlação das Variáveis"
   ]
  },
  {
   "attachments": {},
   "cell_type": "markdown",
   "metadata": {},
   "source": [
    "Vamos extrair a correlação entre as variáveis numéricas para entender se há alguma relação direta ou indireta entre as variáveis."
   ]
  },
  {
   "cell_type": "code",
   "execution_count": 33,
   "metadata": {},
   "outputs": [
    {
     "name": "stderr",
     "output_type": "stream",
     "text": [
      "C:\\Users\\reyna\\AppData\\Local\\Temp\\ipykernel_49980\\1634470880.py:1: FutureWarning: The default value of numeric_only in DataFrame.corr is deprecated. In a future version, it will default to False. Select only valid columns or specify the value of numeric_only to silence this warning.\n",
      "  dados_tratados.corr()\n"
     ]
    },
    {
     "data": {
      "text/html": [
       "<div>\n",
       "<style scoped>\n",
       "    .dataframe tbody tr th:only-of-type {\n",
       "        vertical-align: middle;\n",
       "    }\n",
       "\n",
       "    .dataframe tbody tr th {\n",
       "        vertical-align: top;\n",
       "    }\n",
       "\n",
       "    .dataframe thead th {\n",
       "        text-align: right;\n",
       "    }\n",
       "</style>\n",
       "<table border=\"1\" class=\"dataframe\">\n",
       "  <thead>\n",
       "    <tr style=\"text-align: right;\">\n",
       "      <th></th>\n",
       "      <th>idade</th>\n",
       "      <th>salario</th>\n",
       "      <th>tempo_trabalho</th>\n",
       "      <th>valor_emprestimo</th>\n",
       "      <th>taxa_juros</th>\n",
       "      <th>inadimplencia</th>\n",
       "      <th>renda_percentual_emprestimo</th>\n",
       "      <th>tempo_de_credito</th>\n",
       "    </tr>\n",
       "  </thead>\n",
       "  <tbody>\n",
       "    <tr>\n",
       "      <th>idade</th>\n",
       "      <td>1.000000</td>\n",
       "      <td>0.080606</td>\n",
       "      <td>0.066496</td>\n",
       "      <td>0.034677</td>\n",
       "      <td>0.016314</td>\n",
       "      <td>-0.022832</td>\n",
       "      <td>-0.021279</td>\n",
       "      <td>0.829873</td>\n",
       "    </tr>\n",
       "    <tr>\n",
       "      <th>salario</th>\n",
       "      <td>0.080606</td>\n",
       "      <td>1.000000</td>\n",
       "      <td>0.197991</td>\n",
       "      <td>0.383939</td>\n",
       "      <td>-0.042812</td>\n",
       "      <td>-0.253973</td>\n",
       "      <td>-0.322658</td>\n",
       "      <td>0.048762</td>\n",
       "    </tr>\n",
       "    <tr>\n",
       "      <th>tempo_trabalho</th>\n",
       "      <td>0.066496</td>\n",
       "      <td>0.197991</td>\n",
       "      <td>1.000000</td>\n",
       "      <td>0.102595</td>\n",
       "      <td>-0.065028</td>\n",
       "      <td>-0.090860</td>\n",
       "      <td>-0.047487</td>\n",
       "      <td>0.054349</td>\n",
       "    </tr>\n",
       "    <tr>\n",
       "      <th>valor_emprestimo</th>\n",
       "      <td>0.034677</td>\n",
       "      <td>0.383939</td>\n",
       "      <td>0.102595</td>\n",
       "      <td>1.000000</td>\n",
       "      <td>0.133517</td>\n",
       "      <td>0.128286</td>\n",
       "      <td>0.650942</td>\n",
       "      <td>0.023705</td>\n",
       "    </tr>\n",
       "    <tr>\n",
       "      <th>taxa_juros</th>\n",
       "      <td>0.016314</td>\n",
       "      <td>-0.042812</td>\n",
       "      <td>-0.065028</td>\n",
       "      <td>0.133517</td>\n",
       "      <td>1.000000</td>\n",
       "      <td>0.337997</td>\n",
       "      <td>0.128787</td>\n",
       "      <td>0.020267</td>\n",
       "    </tr>\n",
       "    <tr>\n",
       "      <th>inadimplencia</th>\n",
       "      <td>-0.022832</td>\n",
       "      <td>-0.253973</td>\n",
       "      <td>-0.090860</td>\n",
       "      <td>0.128286</td>\n",
       "      <td>0.337997</td>\n",
       "      <td>1.000000</td>\n",
       "      <td>0.381395</td>\n",
       "      <td>-0.014168</td>\n",
       "    </tr>\n",
       "    <tr>\n",
       "      <th>renda_percentual_emprestimo</th>\n",
       "      <td>-0.021279</td>\n",
       "      <td>-0.322658</td>\n",
       "      <td>-0.047487</td>\n",
       "      <td>0.650942</td>\n",
       "      <td>0.128787</td>\n",
       "      <td>0.381395</td>\n",
       "      <td>1.000000</td>\n",
       "      <td>-0.008188</td>\n",
       "    </tr>\n",
       "    <tr>\n",
       "      <th>tempo_de_credito</th>\n",
       "      <td>0.829873</td>\n",
       "      <td>0.048762</td>\n",
       "      <td>0.054349</td>\n",
       "      <td>0.023705</td>\n",
       "      <td>0.020267</td>\n",
       "      <td>-0.014168</td>\n",
       "      <td>-0.008188</td>\n",
       "      <td>1.000000</td>\n",
       "    </tr>\n",
       "  </tbody>\n",
       "</table>\n",
       "</div>"
      ],
      "text/plain": [
       "                                idade   salario  tempo_trabalho  \\\n",
       "idade                        1.000000  0.080606        0.066496   \n",
       "salario                      0.080606  1.000000        0.197991   \n",
       "tempo_trabalho               0.066496  0.197991        1.000000   \n",
       "valor_emprestimo             0.034677  0.383939        0.102595   \n",
       "taxa_juros                   0.016314 -0.042812       -0.065028   \n",
       "inadimplencia               -0.022832 -0.253973       -0.090860   \n",
       "renda_percentual_emprestimo -0.021279 -0.322658       -0.047487   \n",
       "tempo_de_credito             0.829873  0.048762        0.054349   \n",
       "\n",
       "                             valor_emprestimo  taxa_juros  inadimplencia  \\\n",
       "idade                                0.034677    0.016314      -0.022832   \n",
       "salario                              0.383939   -0.042812      -0.253973   \n",
       "tempo_trabalho                       0.102595   -0.065028      -0.090860   \n",
       "valor_emprestimo                     1.000000    0.133517       0.128286   \n",
       "taxa_juros                           0.133517    1.000000       0.337997   \n",
       "inadimplencia                        0.128286    0.337997       1.000000   \n",
       "renda_percentual_emprestimo          0.650942    0.128787       0.381395   \n",
       "tempo_de_credito                     0.023705    0.020267      -0.014168   \n",
       "\n",
       "                             renda_percentual_emprestimo  tempo_de_credito  \n",
       "idade                                          -0.021279          0.829873  \n",
       "salario                                        -0.322658          0.048762  \n",
       "tempo_trabalho                                 -0.047487          0.054349  \n",
       "valor_emprestimo                                0.650942          0.023705  \n",
       "taxa_juros                                      0.128787          0.020267  \n",
       "inadimplencia                                   0.381395         -0.014168  \n",
       "renda_percentual_emprestimo                     1.000000         -0.008188  \n",
       "tempo_de_credito                               -0.008188          1.000000  "
      ]
     },
     "execution_count": 33,
     "metadata": {},
     "output_type": "execute_result"
    }
   ],
   "source": [
    "dados_tratados.corr()"
   ]
  },
  {
   "attachments": {},
   "cell_type": "markdown",
   "metadata": {},
   "source": [
    "Nota-se que a variável `renda_percentual_emprestimo` tem uma correlação alta de aproximadamente 0.65 com `valor_emprestimo` e de fato essa variável é construída utilizando o salário e o valor do empréstimo solicitado pelo cliente."
   ]
  },
  {
   "cell_type": "code",
   "execution_count": 34,
   "metadata": {},
   "outputs": [
    {
     "data": {
      "text/html": [
       "<div>\n",
       "<style scoped>\n",
       "    .dataframe tbody tr th:only-of-type {\n",
       "        vertical-align: middle;\n",
       "    }\n",
       "\n",
       "    .dataframe tbody tr th {\n",
       "        vertical-align: top;\n",
       "    }\n",
       "\n",
       "    .dataframe thead th {\n",
       "        text-align: right;\n",
       "    }\n",
       "</style>\n",
       "<table border=\"1\" class=\"dataframe\">\n",
       "  <thead>\n",
       "    <tr style=\"text-align: right;\">\n",
       "      <th></th>\n",
       "      <th>idade</th>\n",
       "      <th>salario</th>\n",
       "      <th>situacao_moradia</th>\n",
       "      <th>tempo_trabalho</th>\n",
       "      <th>motivo_emprestimo</th>\n",
       "      <th>pontuacao_emprestimo</th>\n",
       "      <th>valor_emprestimo</th>\n",
       "      <th>taxa_juros</th>\n",
       "      <th>inadimplencia</th>\n",
       "      <th>devendo</th>\n",
       "      <th>tempo_de_credito</th>\n",
       "    </tr>\n",
       "  </thead>\n",
       "  <tbody>\n",
       "    <tr>\n",
       "      <th>0</th>\n",
       "      <td>21.0</td>\n",
       "      <td>60000.0</td>\n",
       "      <td>Alugada</td>\n",
       "      <td>2</td>\n",
       "      <td>Educativo</td>\n",
       "      <td>B</td>\n",
       "      <td>8000.0</td>\n",
       "      <td>11.26</td>\n",
       "      <td>0.0</td>\n",
       "      <td>N</td>\n",
       "      <td>3.0</td>\n",
       "    </tr>\n",
       "    <tr>\n",
       "      <th>1</th>\n",
       "      <td>40.0</td>\n",
       "      <td>70000.0</td>\n",
       "      <td>Hipotecada</td>\n",
       "      <td>6</td>\n",
       "      <td>Educativo</td>\n",
       "      <td>A</td>\n",
       "      <td>18000.0</td>\n",
       "      <td>7.90</td>\n",
       "      <td>0.0</td>\n",
       "      <td>N</td>\n",
       "      <td>14.0</td>\n",
       "    </tr>\n",
       "    <tr>\n",
       "      <th>2</th>\n",
       "      <td>29.0</td>\n",
       "      <td>115000.0</td>\n",
       "      <td>Hipotecada</td>\n",
       "      <td>3</td>\n",
       "      <td>Medico</td>\n",
       "      <td>C</td>\n",
       "      <td>22000.0</td>\n",
       "      <td>15.23</td>\n",
       "      <td>0.0</td>\n",
       "      <td>Y</td>\n",
       "      <td>7.0</td>\n",
       "    </tr>\n",
       "    <tr>\n",
       "      <th>3</th>\n",
       "      <td>26.0</td>\n",
       "      <td>84996.0</td>\n",
       "      <td>Alugada</td>\n",
       "      <td>0</td>\n",
       "      <td>Medico</td>\n",
       "      <td>B</td>\n",
       "      <td>9000.0</td>\n",
       "      <td>11.26</td>\n",
       "      <td>0.0</td>\n",
       "      <td>N</td>\n",
       "      <td>2.0</td>\n",
       "    </tr>\n",
       "    <tr>\n",
       "      <th>6</th>\n",
       "      <td>23.0</td>\n",
       "      <td>24000.0</td>\n",
       "      <td>Propria</td>\n",
       "      <td>7</td>\n",
       "      <td>Educativo</td>\n",
       "      <td>A</td>\n",
       "      <td>5000.0</td>\n",
       "      <td>7.49</td>\n",
       "      <td>0.0</td>\n",
       "      <td>N</td>\n",
       "      <td>2.0</td>\n",
       "    </tr>\n",
       "  </tbody>\n",
       "</table>\n",
       "</div>"
      ],
      "text/plain": [
       "   idade   salario situacao_moradia  tempo_trabalho motivo_emprestimo  \\\n",
       "0   21.0   60000.0          Alugada               2         Educativo   \n",
       "1   40.0   70000.0       Hipotecada               6         Educativo   \n",
       "2   29.0  115000.0       Hipotecada               3            Medico   \n",
       "3   26.0   84996.0          Alugada               0            Medico   \n",
       "6   23.0   24000.0          Propria               7         Educativo   \n",
       "\n",
       "  pontuacao_emprestimo  valor_emprestimo  taxa_juros  inadimplencia devendo  \\\n",
       "0                    B            8000.0       11.26            0.0       N   \n",
       "1                    A           18000.0        7.90            0.0       N   \n",
       "2                    C           22000.0       15.23            0.0       Y   \n",
       "3                    B            9000.0       11.26            0.0       N   \n",
       "6                    A            5000.0        7.49            0.0       N   \n",
       "\n",
       "   tempo_de_credito  \n",
       "0               3.0  \n",
       "1              14.0  \n",
       "2               7.0  \n",
       "3               2.0  \n",
       "6               2.0  "
      ]
     },
     "execution_count": 34,
     "metadata": {},
     "output_type": "execute_result"
    }
   ],
   "source": [
    "# Por isso iremos remover a coluna renda_percentual_emprestimo, para não haver informação duplicada no conjunto de dados.\n",
    "dados2 = dados_tratados.drop('renda_percentual_emprestimo', axis=1)\n",
    "dados2.head()"
   ]
  },
  {
   "attachments": {},
   "cell_type": "markdown",
   "metadata": {},
   "source": [
    "#### Aplicação de Label Enconding (2 classes)\n",
    "Para o processo de transformação das variáveis categóricas para dummys, é preciso substituir os valores da coluna devendo para 0 e 1, uma vez que essa variável possui apenas 2 classes"
   ]
  },
  {
   "cell_type": "code",
   "execution_count": 35,
   "metadata": {},
   "outputs": [],
   "source": [
    "# Declarando dicionário para substituição dos valores\n",
    "dict_devendo = {\n",
    "    'N':'0',\n",
    "    'Y': '1'\n",
    "}"
   ]
  },
  {
   "cell_type": "code",
   "execution_count": 36,
   "metadata": {},
   "outputs": [],
   "source": [
    "# Renomeando dados \n",
    "dados2.replace(dict_devendo, inplace=True)"
   ]
  },
  {
   "attachments": {},
   "cell_type": "markdown",
   "metadata": {},
   "source": [
    "### Separação dos dataframes de Variaveis Dependentes (Y) e Independentes (X)"
   ]
  },
  {
   "cell_type": "code",
   "execution_count": 37,
   "metadata": {},
   "outputs": [
    {
     "data": {
      "text/html": [
       "<div>\n",
       "<style scoped>\n",
       "    .dataframe tbody tr th:only-of-type {\n",
       "        vertical-align: middle;\n",
       "    }\n",
       "\n",
       "    .dataframe tbody tr th {\n",
       "        vertical-align: top;\n",
       "    }\n",
       "\n",
       "    .dataframe thead th {\n",
       "        text-align: right;\n",
       "    }\n",
       "</style>\n",
       "<table border=\"1\" class=\"dataframe\">\n",
       "  <thead>\n",
       "    <tr style=\"text-align: right;\">\n",
       "      <th></th>\n",
       "      <th>idade</th>\n",
       "      <th>salario</th>\n",
       "      <th>situacao_moradia</th>\n",
       "      <th>tempo_trabalho</th>\n",
       "      <th>motivo_emprestimo</th>\n",
       "      <th>pontuacao_emprestimo</th>\n",
       "      <th>valor_emprestimo</th>\n",
       "      <th>taxa_juros</th>\n",
       "      <th>devendo</th>\n",
       "      <th>tempo_de_credito</th>\n",
       "    </tr>\n",
       "  </thead>\n",
       "  <tbody>\n",
       "    <tr>\n",
       "      <th>0</th>\n",
       "      <td>21.0</td>\n",
       "      <td>60000.0</td>\n",
       "      <td>Alugada</td>\n",
       "      <td>2</td>\n",
       "      <td>Educativo</td>\n",
       "      <td>B</td>\n",
       "      <td>8000.0</td>\n",
       "      <td>11.26</td>\n",
       "      <td>0</td>\n",
       "      <td>3.0</td>\n",
       "    </tr>\n",
       "    <tr>\n",
       "      <th>1</th>\n",
       "      <td>40.0</td>\n",
       "      <td>70000.0</td>\n",
       "      <td>Hipotecada</td>\n",
       "      <td>6</td>\n",
       "      <td>Educativo</td>\n",
       "      <td>A</td>\n",
       "      <td>18000.0</td>\n",
       "      <td>7.90</td>\n",
       "      <td>0</td>\n",
       "      <td>14.0</td>\n",
       "    </tr>\n",
       "    <tr>\n",
       "      <th>2</th>\n",
       "      <td>29.0</td>\n",
       "      <td>115000.0</td>\n",
       "      <td>Hipotecada</td>\n",
       "      <td>3</td>\n",
       "      <td>Medico</td>\n",
       "      <td>C</td>\n",
       "      <td>22000.0</td>\n",
       "      <td>15.23</td>\n",
       "      <td>1</td>\n",
       "      <td>7.0</td>\n",
       "    </tr>\n",
       "    <tr>\n",
       "      <th>3</th>\n",
       "      <td>26.0</td>\n",
       "      <td>84996.0</td>\n",
       "      <td>Alugada</td>\n",
       "      <td>0</td>\n",
       "      <td>Medico</td>\n",
       "      <td>B</td>\n",
       "      <td>9000.0</td>\n",
       "      <td>11.26</td>\n",
       "      <td>0</td>\n",
       "      <td>2.0</td>\n",
       "    </tr>\n",
       "    <tr>\n",
       "      <th>6</th>\n",
       "      <td>23.0</td>\n",
       "      <td>24000.0</td>\n",
       "      <td>Propria</td>\n",
       "      <td>7</td>\n",
       "      <td>Educativo</td>\n",
       "      <td>A</td>\n",
       "      <td>5000.0</td>\n",
       "      <td>7.49</td>\n",
       "      <td>0</td>\n",
       "      <td>2.0</td>\n",
       "    </tr>\n",
       "  </tbody>\n",
       "</table>\n",
       "</div>"
      ],
      "text/plain": [
       "   idade   salario situacao_moradia  tempo_trabalho motivo_emprestimo  \\\n",
       "0   21.0   60000.0          Alugada               2         Educativo   \n",
       "1   40.0   70000.0       Hipotecada               6         Educativo   \n",
       "2   29.0  115000.0       Hipotecada               3            Medico   \n",
       "3   26.0   84996.0          Alugada               0            Medico   \n",
       "6   23.0   24000.0          Propria               7         Educativo   \n",
       "\n",
       "  pontuacao_emprestimo  valor_emprestimo  taxa_juros devendo  tempo_de_credito  \n",
       "0                    B            8000.0       11.26       0               3.0  \n",
       "1                    A           18000.0        7.90       0              14.0  \n",
       "2                    C           22000.0       15.23       1               7.0  \n",
       "3                    B            9000.0       11.26       0               2.0  \n",
       "6                    A            5000.0        7.49       0               2.0  "
      ]
     },
     "execution_count": 37,
     "metadata": {},
     "output_type": "execute_result"
    }
   ],
   "source": [
    "# Removendo a Variável Dependente (alvo) \n",
    "x = dados2.drop('inadimplencia', axis=1)\n",
    "x.head()"
   ]
  },
  {
   "cell_type": "code",
   "execution_count": 38,
   "metadata": {},
   "outputs": [
    {
     "data": {
      "text/plain": [
       "0    0.0\n",
       "1    0.0\n",
       "2    0.0\n",
       "3    0.0\n",
       "6    0.0\n",
       "Name: inadimplencia, dtype: float64"
      ]
     },
     "execution_count": 38,
     "metadata": {},
     "output_type": "execute_result"
    }
   ],
   "source": [
    "# Separando a Variável Dependente (y)\n",
    "alvo = dados2['inadimplencia']\n",
    "alvo.head(5)"
   ]
  },
  {
   "attachments": {},
   "cell_type": "markdown",
   "metadata": {},
   "source": [
    "### Aplicação de One Hot Coding  (n classes)\n",
    "\n",
    "As variáveis categóricas com mais de 2 categorias precisam passar por um processo de construção de novas colunas. Cada uma das novas colunas corresponde a uma das categorias e o valor será 1 caso o registro tenha a presença da característica e 0 caso contrário\n",
    "\n",
    "Faremos a criação dessas novas colunas com o OneHotEncoder."
   ]
  },
  {
   "cell_type": "code",
   "execution_count": 39,
   "metadata": {},
   "outputs": [],
   "source": [
    "from sklearn.compose import make_column_transformer\n",
    "from sklearn.preprocessing import OneHotEncoder"
   ]
  },
  {
   "cell_type": "code",
   "execution_count": 40,
   "metadata": {},
   "outputs": [
    {
     "data": {
      "text/html": [
       "<div>\n",
       "<style scoped>\n",
       "    .dataframe tbody tr th:only-of-type {\n",
       "        vertical-align: middle;\n",
       "    }\n",
       "\n",
       "    .dataframe tbody tr th {\n",
       "        vertical-align: top;\n",
       "    }\n",
       "\n",
       "    .dataframe thead th {\n",
       "        text-align: right;\n",
       "    }\n",
       "</style>\n",
       "<table border=\"1\" class=\"dataframe\">\n",
       "  <thead>\n",
       "    <tr style=\"text-align: right;\">\n",
       "      <th></th>\n",
       "      <th>onehotencoder__situacao_moradia_Alugada</th>\n",
       "      <th>onehotencoder__situacao_moradia_Hipotecada</th>\n",
       "      <th>onehotencoder__situacao_moradia_Outros</th>\n",
       "      <th>onehotencoder__situacao_moradia_Propria</th>\n",
       "      <th>onehotencoder__motivo_emprestimo_Educativo</th>\n",
       "      <th>onehotencoder__motivo_emprestimo_Empreendimento</th>\n",
       "      <th>onehotencoder__motivo_emprestimo_Medico</th>\n",
       "      <th>onehotencoder__motivo_emprestimo_Melhoria do Lar</th>\n",
       "      <th>onehotencoder__motivo_emprestimo_Pagamento de Debitos</th>\n",
       "      <th>onehotencoder__motivo_emprestimo_Pessoal</th>\n",
       "      <th>...</th>\n",
       "      <th>onehotencoder__pontuacao_emprestimo_E</th>\n",
       "      <th>onehotencoder__pontuacao_emprestimo_F</th>\n",
       "      <th>onehotencoder__pontuacao_emprestimo_G</th>\n",
       "      <th>remainder__idade</th>\n",
       "      <th>remainder__salario</th>\n",
       "      <th>remainder__tempo_trabalho</th>\n",
       "      <th>remainder__valor_emprestimo</th>\n",
       "      <th>remainder__taxa_juros</th>\n",
       "      <th>remainder__devendo</th>\n",
       "      <th>remainder__tempo_de_credito</th>\n",
       "    </tr>\n",
       "  </thead>\n",
       "  <tbody>\n",
       "    <tr>\n",
       "      <th>0</th>\n",
       "      <td>1.0</td>\n",
       "      <td>0.0</td>\n",
       "      <td>0.0</td>\n",
       "      <td>0.0</td>\n",
       "      <td>1.0</td>\n",
       "      <td>0.0</td>\n",
       "      <td>0.0</td>\n",
       "      <td>0.0</td>\n",
       "      <td>0.0</td>\n",
       "      <td>0.0</td>\n",
       "      <td>...</td>\n",
       "      <td>0.0</td>\n",
       "      <td>0.0</td>\n",
       "      <td>0.0</td>\n",
       "      <td>21.0</td>\n",
       "      <td>60000.0</td>\n",
       "      <td>2</td>\n",
       "      <td>8000.0</td>\n",
       "      <td>11.26</td>\n",
       "      <td>0</td>\n",
       "      <td>3.0</td>\n",
       "    </tr>\n",
       "    <tr>\n",
       "      <th>1</th>\n",
       "      <td>0.0</td>\n",
       "      <td>1.0</td>\n",
       "      <td>0.0</td>\n",
       "      <td>0.0</td>\n",
       "      <td>1.0</td>\n",
       "      <td>0.0</td>\n",
       "      <td>0.0</td>\n",
       "      <td>0.0</td>\n",
       "      <td>0.0</td>\n",
       "      <td>0.0</td>\n",
       "      <td>...</td>\n",
       "      <td>0.0</td>\n",
       "      <td>0.0</td>\n",
       "      <td>0.0</td>\n",
       "      <td>40.0</td>\n",
       "      <td>70000.0</td>\n",
       "      <td>6</td>\n",
       "      <td>18000.0</td>\n",
       "      <td>7.9</td>\n",
       "      <td>0</td>\n",
       "      <td>14.0</td>\n",
       "    </tr>\n",
       "    <tr>\n",
       "      <th>2</th>\n",
       "      <td>0.0</td>\n",
       "      <td>1.0</td>\n",
       "      <td>0.0</td>\n",
       "      <td>0.0</td>\n",
       "      <td>0.0</td>\n",
       "      <td>0.0</td>\n",
       "      <td>1.0</td>\n",
       "      <td>0.0</td>\n",
       "      <td>0.0</td>\n",
       "      <td>0.0</td>\n",
       "      <td>...</td>\n",
       "      <td>0.0</td>\n",
       "      <td>0.0</td>\n",
       "      <td>0.0</td>\n",
       "      <td>29.0</td>\n",
       "      <td>115000.0</td>\n",
       "      <td>3</td>\n",
       "      <td>22000.0</td>\n",
       "      <td>15.23</td>\n",
       "      <td>1</td>\n",
       "      <td>7.0</td>\n",
       "    </tr>\n",
       "    <tr>\n",
       "      <th>3</th>\n",
       "      <td>1.0</td>\n",
       "      <td>0.0</td>\n",
       "      <td>0.0</td>\n",
       "      <td>0.0</td>\n",
       "      <td>0.0</td>\n",
       "      <td>0.0</td>\n",
       "      <td>1.0</td>\n",
       "      <td>0.0</td>\n",
       "      <td>0.0</td>\n",
       "      <td>0.0</td>\n",
       "      <td>...</td>\n",
       "      <td>0.0</td>\n",
       "      <td>0.0</td>\n",
       "      <td>0.0</td>\n",
       "      <td>26.0</td>\n",
       "      <td>84996.0</td>\n",
       "      <td>0</td>\n",
       "      <td>9000.0</td>\n",
       "      <td>11.26</td>\n",
       "      <td>0</td>\n",
       "      <td>2.0</td>\n",
       "    </tr>\n",
       "    <tr>\n",
       "      <th>4</th>\n",
       "      <td>0.0</td>\n",
       "      <td>0.0</td>\n",
       "      <td>0.0</td>\n",
       "      <td>1.0</td>\n",
       "      <td>1.0</td>\n",
       "      <td>0.0</td>\n",
       "      <td>0.0</td>\n",
       "      <td>0.0</td>\n",
       "      <td>0.0</td>\n",
       "      <td>0.0</td>\n",
       "      <td>...</td>\n",
       "      <td>0.0</td>\n",
       "      <td>0.0</td>\n",
       "      <td>0.0</td>\n",
       "      <td>23.0</td>\n",
       "      <td>24000.0</td>\n",
       "      <td>7</td>\n",
       "      <td>5000.0</td>\n",
       "      <td>7.49</td>\n",
       "      <td>0</td>\n",
       "      <td>2.0</td>\n",
       "    </tr>\n",
       "  </tbody>\n",
       "</table>\n",
       "<p>5 rows × 24 columns</p>\n",
       "</div>"
      ],
      "text/plain": [
       "  onehotencoder__situacao_moradia_Alugada  \\\n",
       "0                                     1.0   \n",
       "1                                     0.0   \n",
       "2                                     0.0   \n",
       "3                                     1.0   \n",
       "4                                     0.0   \n",
       "\n",
       "  onehotencoder__situacao_moradia_Hipotecada  \\\n",
       "0                                        0.0   \n",
       "1                                        1.0   \n",
       "2                                        1.0   \n",
       "3                                        0.0   \n",
       "4                                        0.0   \n",
       "\n",
       "  onehotencoder__situacao_moradia_Outros  \\\n",
       "0                                    0.0   \n",
       "1                                    0.0   \n",
       "2                                    0.0   \n",
       "3                                    0.0   \n",
       "4                                    0.0   \n",
       "\n",
       "  onehotencoder__situacao_moradia_Propria  \\\n",
       "0                                     0.0   \n",
       "1                                     0.0   \n",
       "2                                     0.0   \n",
       "3                                     0.0   \n",
       "4                                     1.0   \n",
       "\n",
       "  onehotencoder__motivo_emprestimo_Educativo  \\\n",
       "0                                        1.0   \n",
       "1                                        1.0   \n",
       "2                                        0.0   \n",
       "3                                        0.0   \n",
       "4                                        1.0   \n",
       "\n",
       "  onehotencoder__motivo_emprestimo_Empreendimento  \\\n",
       "0                                             0.0   \n",
       "1                                             0.0   \n",
       "2                                             0.0   \n",
       "3                                             0.0   \n",
       "4                                             0.0   \n",
       "\n",
       "  onehotencoder__motivo_emprestimo_Medico  \\\n",
       "0                                     0.0   \n",
       "1                                     0.0   \n",
       "2                                     1.0   \n",
       "3                                     1.0   \n",
       "4                                     0.0   \n",
       "\n",
       "  onehotencoder__motivo_emprestimo_Melhoria do Lar  \\\n",
       "0                                              0.0   \n",
       "1                                              0.0   \n",
       "2                                              0.0   \n",
       "3                                              0.0   \n",
       "4                                              0.0   \n",
       "\n",
       "  onehotencoder__motivo_emprestimo_Pagamento de Debitos  \\\n",
       "0                                                0.0      \n",
       "1                                                0.0      \n",
       "2                                                0.0      \n",
       "3                                                0.0      \n",
       "4                                                0.0      \n",
       "\n",
       "  onehotencoder__motivo_emprestimo_Pessoal  ...  \\\n",
       "0                                      0.0  ...   \n",
       "1                                      0.0  ...   \n",
       "2                                      0.0  ...   \n",
       "3                                      0.0  ...   \n",
       "4                                      0.0  ...   \n",
       "\n",
       "  onehotencoder__pontuacao_emprestimo_E onehotencoder__pontuacao_emprestimo_F  \\\n",
       "0                                   0.0                                   0.0   \n",
       "1                                   0.0                                   0.0   \n",
       "2                                   0.0                                   0.0   \n",
       "3                                   0.0                                   0.0   \n",
       "4                                   0.0                                   0.0   \n",
       "\n",
       "  onehotencoder__pontuacao_emprestimo_G remainder__idade remainder__salario  \\\n",
       "0                                   0.0             21.0            60000.0   \n",
       "1                                   0.0             40.0            70000.0   \n",
       "2                                   0.0             29.0           115000.0   \n",
       "3                                   0.0             26.0            84996.0   \n",
       "4                                   0.0             23.0            24000.0   \n",
       "\n",
       "  remainder__tempo_trabalho remainder__valor_emprestimo remainder__taxa_juros  \\\n",
       "0                         2                      8000.0                 11.26   \n",
       "1                         6                     18000.0                   7.9   \n",
       "2                         3                     22000.0                 15.23   \n",
       "3                         0                      9000.0                 11.26   \n",
       "4                         7                      5000.0                  7.49   \n",
       "\n",
       "  remainder__devendo remainder__tempo_de_credito  \n",
       "0                  0                         3.0  \n",
       "1                  0                        14.0  \n",
       "2                  1                         7.0  \n",
       "3                  0                         2.0  \n",
       "4                  0                         2.0  \n",
       "\n",
       "[5 rows x 24 columns]"
      ]
     },
     "execution_count": 40,
     "metadata": {},
     "output_type": "execute_result"
    }
   ],
   "source": [
    "colunas_categoricas = ['situacao_moradia','motivo_emprestimo','pontuacao_emprestimo']\n",
    "\n",
    "one_hot_enc = make_column_transformer(\n",
    "    (OneHotEncoder(), colunas_categoricas),\n",
    "    remainder='passthrough')\n",
    "\n",
    "dados_transformados = one_hot_enc.fit_transform(x)\n",
    "dados_transformados = pd.DataFrame(dados_transformados, columns=one_hot_enc.get_feature_names_out())\n",
    "dados_transformados.head()"
   ]
  }
 ],
 "metadata": {
  "kernelspec": {
   "display_name": "Python 3",
   "language": "python",
   "name": "python3"
  },
  "language_info": {
   "codemirror_mode": {
    "name": "ipython",
    "version": 3
   },
   "file_extension": ".py",
   "mimetype": "text/x-python",
   "name": "python",
   "nbconvert_exporter": "python",
   "pygments_lexer": "ipython3",
   "version": "3.11.0"
  },
  "orig_nbformat": 4,
  "vscode": {
   "interpreter": {
    "hash": "c261aea317cc0286b3b3261fbba9abdec21eaa57589985bb7a274bf54d6cc0a7"
   }
  }
 },
 "nbformat": 4,
 "nbformat_minor": 2
}
